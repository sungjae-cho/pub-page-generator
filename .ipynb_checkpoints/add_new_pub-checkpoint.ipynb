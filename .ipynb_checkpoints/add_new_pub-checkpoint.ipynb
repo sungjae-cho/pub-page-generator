{
 "cells": [
  {
   "cell_type": "code",
   "execution_count": 2,
   "metadata": {},
   "outputs": [],
   "source": [
    "from bs4 import BeautifulSoup"
   ]
  },
  {
   "cell_type": "code",
   "execution_count": 3,
   "metadata": {},
   "outputs": [],
   "source": [
    "import urllib.request"
   ]
  },
  {
   "cell_type": "code",
   "execution_count": 4,
   "metadata": {},
   "outputs": [],
   "source": [
    "from datetime import datetime"
   ]
  },
  {
   "cell_type": "code",
   "execution_count": 17,
   "metadata": {},
   "outputs": [],
   "source": [
    "now = datetime.now()\n",
    "str_now = now.strftime(\"%Y-%m-%d\")"
   ]
  },
  {
   "cell_type": "code",
   "execution_count": 24,
   "metadata": {},
   "outputs": [],
   "source": [
    "str_last_update = \"Last update: \" + str_now"
   ]
  },
  {
   "cell_type": "code",
   "execution_count": 23,
   "metadata": {},
   "outputs": [
    {
     "data": {
      "text/plain": [
       "'This page is maintained by Sungjae Cho (sjcho[at]bi.snu.ac.kr)'"
      ]
     },
     "execution_count": 23,
     "metadata": {},
     "output_type": "execute_result"
    }
   ],
   "source": []
  },
  {
   "cell_type": "code",
   "execution_count": 5,
   "metadata": {},
   "outputs": [],
   "source": [
    "# The BI publication pages\n",
    "url_pub_conf_inter = 'https://bi.snu.ac.kr/Publications/pub_conf_inter.html'\n",
    "url_pub_jour_inter = 'https://bi.snu.ac.kr/Publications/pub_journal_inter.html'\n",
    "url_pub_conf_domes = 'https://bi.snu.ac.kr/Publications/pub_journal_domestic.html'\n",
    "url_pub_jour_domes = 'https://bi.snu.ac.kr/Publications/pub_conf_domestic.html'"
   ]
  },
  {
   "cell_type": "code",
   "execution_count": 6,
   "metadata": {},
   "outputs": [],
   "source": [
    "with urllib.request.urlopen(url_pub_conf_inter) as fp:\n",
    "    mybytes = fp.read()\n",
    "\n",
    "    html_doc = mybytes.decode(\"utf8\")"
   ]
  },
  {
   "cell_type": "code",
   "execution_count": 7,
   "metadata": {},
   "outputs": [],
   "source": [
    "soup = BeautifulSoup(html_doc, 'html.parser')"
   ]
  },
  {
   "cell_type": "code",
   "execution_count": 29,
   "metadata": {},
   "outputs": [],
   "source": [
    "soup.font.font.string = \"This page is maintained by Sungjae Cho (sjcho[at]bi.snu.ac.kr)\\r\\n\" + str_last_update"
   ]
  },
  {
   "cell_type": "code",
   "execution_count": 30,
   "metadata": {},
   "outputs": [
    {
     "data": {
      "text/plain": [
       "'This page is maintained by Sungjae Cho (sjcho[at]bi.snu.ac.kr)\\nLast update: 2018-08-23'"
      ]
     },
     "execution_count": 30,
     "metadata": {},
     "output_type": "execute_result"
    }
   ],
   "source": [
    "soup.font.font.text"
   ]
  },
  {
   "cell_type": "code",
   "execution_count": null,
   "metadata": {},
   "outputs": [],
   "source": [
    "new_pub = dict()\n",
    "new_pub['title'] = 'title'\n",
    "new_pub['author'] = 'S. Cho and B.-T. Zhang'\n",
    "new_pub['publication'] = 'publication'\n",
    "new_pub['year'] = 2018"
   ]
  },
  {
   "cell_type": "code",
   "execution_count": null,
   "metadata": {},
   "outputs": [],
   "source": []
  },
  {
   "cell_type": "code",
   "execution_count": 7,
   "metadata": {},
   "outputs": [],
   "source": [
    "li_list = soup.find_all('li')\n",
    "i_list = soup.find_all('i')\n",
    "b_list = soup.find_all('b')\n",
    "h3_list = soup.find_all('h3')"
   ]
  },
  {
   "cell_type": "code",
   "execution_count": 8,
   "metadata": {},
   "outputs": [],
   "source": [
    "# Sanitation\n",
    "while soup.strong != None:\n",
    "    soup.strong.name = 'b'\n",
    "while soup.em != None:\n",
    "    soup.em.name = 'i'\n",
    "for b_tag in b_list:\n",
    "    if b_tag.i != None:\n",
    "        b_tag.i.decompose()\n",
    "for h3_tag in h3_list:\n",
    "    if str(h3_tag.text).isspace():\n",
    "        h3_tag.decompose()"
   ]
  },
  {
   "cell_type": "code",
   "execution_count": 31,
   "metadata": {},
   "outputs": [],
   "source": [
    "with open('new.html', 'w') as f:\n",
    "    f.write(str(soup))"
   ]
  },
  {
   "cell_type": "code",
   "execution_count": null,
   "metadata": {},
   "outputs": [],
   "source": [
    "str(soup)"
   ]
  }
 ],
 "metadata": {
  "kernelspec": {
   "display_name": "Python 3",
   "language": "python",
   "name": "python3"
  },
  "language_info": {
   "codemirror_mode": {
    "name": "ipython",
    "version": 3
   },
   "file_extension": ".py",
   "mimetype": "text/x-python",
   "name": "python",
   "nbconvert_exporter": "python",
   "pygments_lexer": "ipython3",
   "version": "3.5.2"
  }
 },
 "nbformat": 4,
 "nbformat_minor": 2
}
