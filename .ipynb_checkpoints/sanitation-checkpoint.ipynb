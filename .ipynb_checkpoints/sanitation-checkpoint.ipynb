{
 "cells": [
  {
   "cell_type": "code",
   "execution_count": 1,
   "metadata": {},
   "outputs": [],
   "source": [
    "from bs4 import BeautifulSoup"
   ]
  },
  {
   "cell_type": "code",
   "execution_count": 2,
   "metadata": {},
   "outputs": [],
   "source": [
    "import urllib.request"
   ]
  },
  {
   "cell_type": "code",
   "execution_count": 3,
   "metadata": {},
   "outputs": [],
   "source": [
    "from datetime import datetime"
   ]
  },
  {
   "cell_type": "code",
   "execution_count": 4,
   "metadata": {},
   "outputs": [],
   "source": [
    "import re"
   ]
  },
  {
   "cell_type": "code",
   "execution_count": 5,
   "metadata": {},
   "outputs": [],
   "source": [
    "# The BI publication pages\n",
    "url_pub_conf_inter = 'https://bi.snu.ac.kr/Publications/pub_conf_inter.html'\n",
    "url_pub_jour_inter = 'https://bi.snu.ac.kr/Publications/pub_journal_inter.html'\n",
    "url_pub_conf_domes = 'https://bi.snu.ac.kr/Publications/pub_conf_domestic.html'\n",
    "url_pub_jour_domes = 'https://bi.snu.ac.kr/Publications/pub_journal_domestic.html'"
   ]
  },
  {
   "cell_type": "code",
   "execution_count": 6,
   "metadata": {},
   "outputs": [],
   "source": [
    "url_pub = url_pub_conf_domes\n",
    "with urllib.request.urlopen(url_pub) as fp:\n",
    "    mybytes = fp.read()\n",
    "    html_doc = mybytes.decode(\"utf8\")"
   ]
  },
  {
   "cell_type": "code",
   "execution_count": 7,
   "metadata": {},
   "outputs": [],
   "source": [
    "soup = BeautifulSoup(html_doc, 'html.parser')"
   ]
  },
  {
   "cell_type": "code",
   "execution_count": 8,
   "metadata": {},
   "outputs": [
    {
     "data": {
      "text/plain": [
       "\"while soup.em != None:\\n    soup.em.name = 'i'\\n\""
      ]
     },
     "execution_count": 8,
     "metadata": {},
     "output_type": "execute_result"
    }
   ],
   "source": [
    "# Sanitation\n",
    "while soup.strong != None:\n",
    "    soup.strong.name = 'b'\n",
    "'''while soup.em != None:\n",
    "    soup.em.name = 'i'\n",
    "'''"
   ]
  },
  {
   "cell_type": "code",
   "execution_count": 9,
   "metadata": {},
   "outputs": [],
   "source": [
    "li_list = soup.find_all('li')\n",
    "i_list = soup.find_all('i')\n",
    "b_list = soup.find_all('b')\n",
    "h3_list = soup.find_all('h3')"
   ]
  },
  {
   "cell_type": "code",
   "execution_count": 10,
   "metadata": {},
   "outputs": [
    {
     "data": {
      "text/plain": [
       "'for b_tag in b_list:\\n    if b_tag.i != None:\\n        b_tag.i.decompose()\\nfor h3_tag in h3_list:\\n    if str(h3_tag.text).isspace():\\n        h3_tag.decompose()'"
      ]
     },
     "execution_count": 10,
     "metadata": {},
     "output_type": "execute_result"
    }
   ],
   "source": [
    "# Sanitation\n",
    "'''for b_tag in b_list:\n",
    "    if b_tag.i != None:\n",
    "        b_tag.i.decompose()\n",
    "for h3_tag in h3_list:\n",
    "    if str(h3_tag.text).isspace():\n",
    "        h3_tag.decompose()'''"
   ]
  },
  {
   "cell_type": "code",
   "execution_count": 11,
   "metadata": {},
   "outputs": [],
   "source": [
    "if url_pub == url_pub_conf_inter:\n",
    "    html_name = 'pub_conf_inter.html'\n",
    "if url_pub == url_pub_jour_inter:\n",
    "    html_name = 'pub_journal_inter.html'\n",
    "if url_pub == url_pub_conf_domes:\n",
    "    html_name = 'pub_conf_domestic.html'\n",
    "if url_pub == url_pub_jour_domes:\n",
    "    html_name = 'pub_journal_domestic.html'\n",
    "    \n",
    "with open(html_name, 'w') as f:\n",
    "    f.write(str(soup))"
   ]
  }
 ],
 "metadata": {
  "kernelspec": {
   "display_name": "Python 3",
   "language": "python",
   "name": "python3"
  },
  "language_info": {
   "codemirror_mode": {
    "name": "ipython",
    "version": 3
   },
   "file_extension": ".py",
   "mimetype": "text/x-python",
   "name": "python",
   "nbconvert_exporter": "python",
   "pygments_lexer": "ipython3",
   "version": "3.5.2"
  }
 },
 "nbformat": 4,
 "nbformat_minor": 2
}
