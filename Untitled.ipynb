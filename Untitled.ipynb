{
 "cells": [
  {
   "cell_type": "code",
   "execution_count": 1,
   "metadata": {},
   "outputs": [],
   "source": [
    "from bs4 import BeautifulSoup"
   ]
  },
  {
   "cell_type": "code",
   "execution_count": 2,
   "metadata": {},
   "outputs": [],
   "source": [
    "import urllib.request"
   ]
  },
  {
   "cell_type": "code",
   "execution_count": 3,
   "metadata": {},
   "outputs": [],
   "source": [
    "from datetime import datetime"
   ]
  },
  {
   "cell_type": "code",
   "execution_count": 9,
   "metadata": {},
   "outputs": [],
   "source": [
    "import re"
   ]
  },
  {
   "cell_type": "code",
   "execution_count": 4,
   "metadata": {},
   "outputs": [],
   "source": [
    "# The BI publication pages\n",
    "url_pub_conf_inter = 'https://bi.snu.ac.kr/Publications/pub_conf_inter.html'\n",
    "url_pub_jour_inter = 'https://bi.snu.ac.kr/Publications/pub_journal_inter.html'\n",
    "url_pub_conf_domes = 'https://bi.snu.ac.kr/Publications/pub_journal_domestic.html'\n",
    "url_pub_jour_domes = 'https://bi.snu.ac.kr/Publications/pub_conf_domestic.html'"
   ]
  },
  {
   "cell_type": "code",
   "execution_count": 5,
   "metadata": {},
   "outputs": [],
   "source": [
    "with urllib.request.urlopen(url_pub_conf_inter) as fp:\n",
    "    mybytes = fp.read()\n",
    "\n",
    "    html_doc = mybytes.decode(\"utf8\")"
   ]
  },
  {
   "cell_type": "code",
   "execution_count": 6,
   "metadata": {},
   "outputs": [],
   "source": [
    "soup = BeautifulSoup(html_doc, 'html.parser')"
   ]
  },
  {
   "cell_type": "code",
   "execution_count": 7,
   "metadata": {},
   "outputs": [],
   "source": [
    "li_list = soup.find_all('li')\n",
    "i_list = soup.find_all('i')\n",
    "b_list = soup.find_all('b')\n",
    "h3_list = soup.find_all('h3')"
   ]
  },
  {
   "cell_type": "code",
   "execution_count": 8,
   "metadata": {},
   "outputs": [],
   "source": [
    "# Sanitation\n",
    "while soup.strong != None:\n",
    "    soup.strong.name = 'b'\n",
    "while soup.em != None:\n",
    "    soup.em.name = 'i'\n",
    "for b_tag in b_list:\n",
    "    if b_tag.i != None:\n",
    "        b_tag.i.decompose()\n",
    "for h3_tag in h3_list:\n",
    "    if str(h3_tag.text).isspace():\n",
    "        h3_tag.decompose()"
   ]
  },
  {
   "cell_type": "code",
   "execution_count": 9,
   "metadata": {},
   "outputs": [],
   "source": [
    "li_list = soup.find_all('li')\n",
    "i_list = soup.find_all('i')\n",
    "b_list = soup.find_all('b')\n",
    "h3_list = soup.find_all('h3')"
   ]
  },
  {
   "cell_type": "code",
   "execution_count": 10,
   "metadata": {},
   "outputs": [
    {
     "data": {
      "text/plain": [
       "<i>2018 IEEE International Conference on Robotics and Automation (ICRA 2018)</i>"
      ]
     },
     "execution_count": 10,
     "metadata": {},
     "output_type": "execute_result"
    }
   ],
   "source": [
    "i_list[0]"
   ]
  },
  {
   "cell_type": "code",
   "execution_count": 12,
   "metadata": {},
   "outputs": [
    {
     "name": "stdout",
     "output_type": "stream",
     "text": [
      "Proceedings of 2013 IEEE-RAS International Conference on Humanoid Robots (Humanoids 2013) (Humanoids 2013)\n",
      "Proceedings of the 20th International Conference on Neural Information Processing (ICONIP 2013), Lecture Notes in Computer Science, Lecture Notes in Computer Science\n",
      "Proceedings of the Second Asia Pacific Conference on Simulated Evolution and Learning (SEAL'98), Lecture Notes in Computer Science\n"
     ]
    }
   ],
   "source": [
    "conference_list = list()\n",
    "for j in range(len(i_list)):\n",
    "    i_tag = i_list[j]\n",
    "    i_tag.string = re.sub('[\\r\\b\\n]', ' ', i_tag.text)\n",
    "    i_tag.string = re.sub('[ ]{2,}', ' ', i_tag.text)\n",
    "    i_tag.string = i_tag.text.strip()\n",
    "    i_tag.string = i_tag.text.strip(',')\n",
    "    #print(i_tag.text)\n",
    "    #print('--------------')\n",
    "    \n",
    "    if i_tag.text in ['Humanoids 2013', 'Lecture Notes in Computer Science']:\n",
    "        if i_tag.text == 'Humanoids 2013':\n",
    "            i_list[j-1].string = i_list[j-1].text + ' (' + i_tag.text + ')'\n",
    "        if i_tag.text == 'Lecture Notes in Computer Science':\n",
    "            i_list[j-1].string = i_list[j-1].text + ', '+ i_tag.text\n",
    "        print(i_list[j-1].text)\n",
    "        conference_list[-1] = i_list[-1].text\n",
    "    else:\n",
    "        conference_list.append(i_tag.text)"
   ]
  },
  {
   "cell_type": "code",
   "execution_count": 10,
   "metadata": {},
   "outputs": [],
   "source": [
    "title_list = list()\n",
    "for b_tag in b_list:\n",
    "    b_tag.string = re.sub('[\\r\\b\\n]', ' ', b_tag.text)\n",
    "    b_tag.string = re.sub('[ ]{2,}', ' ', b_tag.text)\n",
    "    b_tag.string = b_tag.text.strip() # trim whitespace in the front and back\n",
    "    b_tag.string = b_tag.text.strip(',')\n",
    "    \n",
    "    if (not b_tag.text.isdigit()) and (b_tag.text not in ['International Conference Papers', '1993 and Before']):\n",
    "        title_list.append(b_tag.text)"
   ]
  },
  {
   "cell_type": "code",
   "execution_count": 11,
   "metadata": {},
   "outputs": [
    {
     "data": {
      "text/plain": [
       "270"
      ]
     },
     "execution_count": 11,
     "metadata": {},
     "output_type": "execute_result"
    }
   ],
   "source": [
    "len(title_list)"
   ]
  },
  {
   "cell_type": "code",
   "execution_count": null,
   "metadata": {},
   "outputs": [],
   "source": [
    "'''with open('new.html', 'w') as f:\n",
    "    f.write(str(soup))'''"
   ]
  },
  {
   "cell_type": "code",
   "execution_count": null,
   "metadata": {},
   "outputs": [],
   "source": [
    "str(soup)"
   ]
  }
 ],
 "metadata": {
  "kernelspec": {
   "display_name": "Python 3",
   "language": "python",
   "name": "python3"
  },
  "language_info": {
   "codemirror_mode": {
    "name": "ipython",
    "version": 3
   },
   "file_extension": ".py",
   "mimetype": "text/x-python",
   "name": "python",
   "nbconvert_exporter": "python",
   "pygments_lexer": "ipython3",
   "version": "3.5.2"
  }
 },
 "nbformat": 4,
 "nbformat_minor": 2
}
